{
    "metadata": {
        "kernelspec": {
            "name": "SQL",
            "display_name": "SQL",
            "language": "sql"
        },
        "language_info": {
            "name": "sql",
            "version": ""
        }
    },
    "nbformat_minor": 2,
    "nbformat": 4,
    "cells": [
        {
            "cell_type": "code",
            "source": [
                "SELECT ss.store_name AS Store,\n",
                "    YEAR(so.order_date) [Year],\n",
                "    SUM(soi.list_price*soi.quantity) AS Sales\n",
                "FROM sales.stores AS ss\n",
                "INNER JOIN sales.orders AS so\n",
                "ON ss.store_id = so.store_id\n",
                "INNER JOIN sales.order_items AS soi\n",
                "ON so.order_id = soi.order_id\n",
                "GROUP BY ss.store_name, YEAR(so.order_date)\n",
                "ORDER BY ss.store_name DESC,YEAR(so.order_date)"
            ],
            "metadata": {
                "azdata_cell_guid": "343c8108-fe89-48a8-9199-957891ebbcd6",
                "language": "sql"
            },
            "outputs": [
                {
                    "output_type": "display_data",
                    "data": {
                        "text/html": "(9 rows affected)"
                    },
                    "metadata": {}
                },
                {
                    "output_type": "display_data",
                    "data": {
                        "text/html": "Total execution time: 00:00:00.013"
                    },
                    "metadata": {}
                },
                {
                    "output_type": "execute_result",
                    "metadata": {},
                    "execution_count": 1,
                    "data": {
                        "application/vnd.dataresource+json": {
                            "schema": {
                                "fields": [
                                    {
                                        "name": "Store"
                                    },
                                    {
                                        "name": "Year"
                                    },
                                    {
                                        "name": "Sales"
                                    }
                                ]
                            },
                            "data": [
                                {
                                    "0": "Santa Cruz Bikes",
                                    "1": "2016",
                                    "2": "628945.07"
                                },
                                {
                                    "0": "Santa Cruz Bikes",
                                    "1": "2017",
                                    "2": "630082.34"
                                },
                                {
                                    "0": "Santa Cruz Bikes",
                                    "1": "2018",
                                    "2": "531118.50"
                                },
                                {
                                    "0": "Rowlett Bikes",
                                    "1": "2016",
                                    "2": "299407.72"
                                },
                                {
                                    "0": "Rowlett Bikes",
                                    "1": "2017",
                                    "2": "450966.48"
                                },
                                {
                                    "0": "Rowlett Bikes",
                                    "1": "2018",
                                    "2": "212226.56"
                                },
                                {
                                    "0": "Baldwin Bikes",
                                    "1": "2016",
                                    "2": "1781131.68"
                                },
                                {
                                    "0": "Baldwin Bikes",
                                    "1": "2017",
                                    "2": "2764466.20"
                                },
                                {
                                    "0": "Baldwin Bikes",
                                    "1": "2018",
                                    "2": "1280644.33"
                                }
                            ]
                        },
                        "text/html": [
                            "<table>",
                            "<tr><th>Store</th><th>Year</th><th>Sales</th></tr>",
                            "<tr><td>Santa Cruz Bikes</td><td>2016</td><td>628945.07</td></tr>",
                            "<tr><td>Santa Cruz Bikes</td><td>2017</td><td>630082.34</td></tr>",
                            "<tr><td>Santa Cruz Bikes</td><td>2018</td><td>531118.50</td></tr>",
                            "<tr><td>Rowlett Bikes</td><td>2016</td><td>299407.72</td></tr>",
                            "<tr><td>Rowlett Bikes</td><td>2017</td><td>450966.48</td></tr>",
                            "<tr><td>Rowlett Bikes</td><td>2018</td><td>212226.56</td></tr>",
                            "<tr><td>Baldwin Bikes</td><td>2016</td><td>1781131.68</td></tr>",
                            "<tr><td>Baldwin Bikes</td><td>2017</td><td>2764466.20</td></tr>",
                            "<tr><td>Baldwin Bikes</td><td>2018</td><td>1280644.33</td></tr>",
                            "</table>"
                        ]
                    }
                }
            ],
            "execution_count": 1
        }
    ]
}