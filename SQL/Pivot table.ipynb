{
    "metadata": {
        "kernelspec": {
            "name": "SQL",
            "display_name": "SQL",
            "language": "sql"
        },
        "language_info": {
            "name": "sql",
            "version": ""
        }
    },
    "nbformat_minor": 2,
    "nbformat": 4,
    "cells": [
        {
            "cell_type": "code",
            "source": [
                "SELECT * FROM   \n",
                "(\n",
                "    SELECT \n",
                "        category_name, \n",
                "        product_id\n",
                "    FROM \n",
                "        production.products p\n",
                "        INNER JOIN production.categories c \n",
                "            ON c.category_id = p.category_id\n",
                ") t \n",
                "PIVOT(\n",
                "    COUNT(product_id) \n",
                "    FOR category_name IN (\n",
                "        [Children Bicycles], \n",
                "        [Comfort Bicycles], \n",
                "        [Cruisers Bicycles], \n",
                "        [Cyclocross Bicycles], \n",
                "        [Electric Bikes], \n",
                "        [Mountain Bikes], \n",
                "        [Road Bikes])\n",
                ") AS pivot_table;"
            ],
            "metadata": {
                "azdata_cell_guid": "e1bf97ef-fb98-4b26-90f1-60ffeb569e5c",
                "language": "sql"
            },
            "outputs": [
                {
                    "output_type": "display_data",
                    "data": {
                        "text/html": "(1 row affected)"
                    },
                    "metadata": {}
                },
                {
                    "output_type": "display_data",
                    "data": {
                        "text/html": "Total execution time: 00:00:00.004"
                    },
                    "metadata": {}
                },
                {
                    "output_type": "execute_result",
                    "metadata": {},
                    "execution_count": 1,
                    "data": {
                        "application/vnd.dataresource+json": {
                            "schema": {
                                "fields": [
                                    {
                                        "name": "Children Bicycles"
                                    },
                                    {
                                        "name": "Comfort Bicycles"
                                    },
                                    {
                                        "name": "Cruisers Bicycles"
                                    },
                                    {
                                        "name": "Cyclocross Bicycles"
                                    },
                                    {
                                        "name": "Electric Bikes"
                                    },
                                    {
                                        "name": "Mountain Bikes"
                                    },
                                    {
                                        "name": "Road Bikes"
                                    }
                                ]
                            },
                            "data": [
                                {
                                    "0": "59",
                                    "1": "30",
                                    "2": "78",
                                    "3": "10",
                                    "4": "24",
                                    "5": "60",
                                    "6": "60"
                                }
                            ]
                        },
                        "text/html": [
                            "<table>",
                            "<tr><th>Children Bicycles</th><th>Comfort Bicycles</th><th>Cruisers Bicycles</th><th>Cyclocross Bicycles</th><th>Electric Bikes</th><th>Mountain Bikes</th><th>Road Bikes</th></tr>",
                            "<tr><td>59</td><td>30</td><td>78</td><td>10</td><td>24</td><td>60</td><td>60</td></tr>",
                            "</table>"
                        ]
                    }
                }
            ],
            "execution_count": 1
        }
    ]
}