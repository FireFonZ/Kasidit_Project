{
    "metadata": {
        "kernelspec": {
            "name": "SQL",
            "display_name": "SQL",
            "language": "sql"
        },
        "language_info": {
            "name": "sql",
            "version": ""
        }
    },
    "nbformat_minor": 2,
    "nbformat": 4,
    "cells": [
        {
            "cell_type": "code",
            "source": [
                "select \n",
                "    pb.brand_name,\n",
                "    COUNT(soi.list_price) AS count,\n",
                "    SUM(soi.list_price) AS total,\n",
                "    MIN(soi.list_price) AS min,\n",
                "    MAX(soi.list_price) AS max,\n",
                "    AVG(soi.list_price) AS mean\n",
                "\n",
                "\n",
                "FROM production.products AS pp\n",
                "INNER JOIN production.categories AS pc\n",
                "ON pp.category_id = pc.category_id\n",
                "INNER JOIN production.brands AS pb\n",
                "ON pp.brand_id = pb.brand_id\n",
                "INNER JOIN production.stocks AS ps\n",
                "ON pp.product_id = ps.product_id\n",
                "INNER JOIN sales.stores AS ss\n",
                "ON ps.store_id = ss.store_id\n",
                "INNER JOIN sales.orders AS so\n",
                "ON ss.store_id = so.store_id\n",
                "INNER JOIN sales.customers AS sc\n",
                "ON so.customer_id = sc.customer_id\n",
                "INNER JOIN sales.order_items AS soi\n",
                "ON pp.product_id = soi.product_id AND so.order_id = soi.order_id\n",
                "INNER JOIN sales.staffs AS sst\n",
                "ON so.staff_id = sst.staff_id\n",
                "GROUP BY pb.brand_name\n",
                "ORDER BY total DESC"
            ],
            "metadata": {
                "azdata_cell_guid": "f5dfc6a0-f622-4a92-85bf-94a4286f846b",
                "language": "sql",
                "tags": []
            },
            "outputs": [
                {
                    "output_type": "display_data",
                    "data": {
                        "text/html": "(9 rows affected)"
                    },
                    "metadata": {}
                },
                {
                    "output_type": "display_data",
                    "data": {
                        "text/html": "Total execution time: 00:00:00.019"
                    },
                    "metadata": {}
                },
                {
                    "output_type": "execute_result",
                    "metadata": {},
                    "execution_count": 3,
                    "data": {
                        "application/vnd.dataresource+json": {
                            "schema": {
                                "fields": [
                                    {
                                        "name": "brand_name"
                                    },
                                    {
                                        "name": "count"
                                    },
                                    {
                                        "name": "total"
                                    },
                                    {
                                        "name": "min"
                                    },
                                    {
                                        "name": "max"
                                    },
                                    {
                                        "name": "mean"
                                    }
                                ]
                            },
                            "data": [
                                {
                                    "0": "Trek",
                                    "1": "1235",
                                    "2": "3417087.65",
                                    "3": "149.99",
                                    "4": "11999.99",
                                    "5": "2766.872591"
                                },
                                {
                                    "0": "Electra",
                                    "1": "1727",
                                    "2": "896792.64",
                                    "3": "269.99",
                                    "4": "2999.99",
                                    "5": "519.277730"
                                },
                                {
                                    "0": "Surly",
                                    "1": "605",
                                    "2": "705390.19",
                                    "3": "469.99",
                                    "4": "2499.99",
                                    "5": "1165.934198"
                                },
                                {
                                    "0": "Sun Bicycles",
                                    "1": "485",
                                    "2": "256763.15",
                                    "3": "109.99",
                                    "4": "1559.99",
                                    "5": "529.408556"
                                },
                                {
                                    "0": "Haro",
                                    "1": "220",
                                    "2": "138437.80",
                                    "3": "209.99",
                                    "4": "1469.99",
                                    "5": "629.262727"
                                },
                                {
                                    "0": "Heller",
                                    "1": "97",
                                    "2": "135804.09",
                                    "3": "1320.99",
                                    "4": "2599.00",
                                    "5": "1400.042164"
                                },
                                {
                                    "0": "Pure Cycles",
                                    "1": "258",
                                    "2": "114022.00",
                                    "3": "429.00",
                                    "4": "449.00",
                                    "5": "441.945736"
                                },
                                {
                                    "0": "Ritchey",
                                    "1": "77",
                                    "2": "57749.23",
                                    "3": "749.99",
                                    "4": "749.99",
                                    "5": "749.990000"
                                },
                                {
                                    "0": "Strider",
                                    "1": "16",
                                    "2": "3119.84",
                                    "3": "89.99",
                                    "4": "289.99",
                                    "5": "194.990000"
                                }
                            ]
                        },
                        "text/html": [
                            "<table>",
                            "<tr><th>brand_name</th><th>count</th><th>total</th><th>min</th><th>max</th><th>mean</th></tr>",
                            "<tr><td>Trek</td><td>1235</td><td>3417087.65</td><td>149.99</td><td>11999.99</td><td>2766.872591</td></tr>",
                            "<tr><td>Electra</td><td>1727</td><td>896792.64</td><td>269.99</td><td>2999.99</td><td>519.277730</td></tr>",
                            "<tr><td>Surly</td><td>605</td><td>705390.19</td><td>469.99</td><td>2499.99</td><td>1165.934198</td></tr>",
                            "<tr><td>Sun Bicycles</td><td>485</td><td>256763.15</td><td>109.99</td><td>1559.99</td><td>529.408556</td></tr>",
                            "<tr><td>Haro</td><td>220</td><td>138437.80</td><td>209.99</td><td>1469.99</td><td>629.262727</td></tr>",
                            "<tr><td>Heller</td><td>97</td><td>135804.09</td><td>1320.99</td><td>2599.00</td><td>1400.042164</td></tr>",
                            "<tr><td>Pure Cycles</td><td>258</td><td>114022.00</td><td>429.00</td><td>449.00</td><td>441.945736</td></tr>",
                            "<tr><td>Ritchey</td><td>77</td><td>57749.23</td><td>749.99</td><td>749.99</td><td>749.990000</td></tr>",
                            "<tr><td>Strider</td><td>16</td><td>3119.84</td><td>89.99</td><td>289.99</td><td>194.990000</td></tr>",
                            "</table>"
                        ]
                    }
                }
            ],
            "execution_count": 3
        }
    ]
}